{
 "cells": [
  {
   "cell_type": "code",
   "execution_count": 98,
   "metadata": {},
   "outputs": [],
   "source": [
    "import pandas as pd\n",
    "import numpy as np\n",
    "import re"
   ]
  },
  {
   "cell_type": "code",
   "execution_count": 99,
   "metadata": {},
   "outputs": [],
   "source": [
    "checked_domains_file = 'CheckedCompanies_20191206.csv'\n",
    "emails_file = 'DistinctEmails_20191125.csv'"
   ]
  },
  {
   "cell_type": "code",
   "execution_count": 100,
   "metadata": {},
   "outputs": [],
   "source": [
    "emails = pd.read_csv(emails_file)\n",
    "checked = pd.read_csv(checked_domains_file)"
   ]
  },
  {
   "cell_type": "code",
   "execution_count": 101,
   "metadata": {},
   "outputs": [],
   "source": [
    "emails['Status'] = ''"
   ]
  },
  {
   "cell_type": "code",
   "execution_count": 103,
   "metadata": {},
   "outputs": [],
   "source": [
    "emails = emails[pd.notnull(emails['Domain'])]"
   ]
  },
  {
   "cell_type": "code",
   "execution_count": 104,
   "metadata": {},
   "outputs": [],
   "source": [
    "emails.reset_index(inplace=True)"
   ]
  },
  {
   "cell_type": "code",
   "execution_count": 106,
   "metadata": {},
   "outputs": [],
   "source": [
    "emails = emails.iloc[:,1:]"
   ]
  },
  {
   "cell_type": "code",
   "execution_count": 108,
   "metadata": {},
   "outputs": [],
   "source": [
    "emails_array = emails.to_numpy()"
   ]
  },
  {
   "cell_type": "code",
   "execution_count": 109,
   "metadata": {},
   "outputs": [],
   "source": [
    "for i in range(emails_array.shape[0]):\n",
    "    emails_array[i][0] = '@{}'.format(emails_array[i][0])"
   ]
  },
  {
   "cell_type": "code",
   "execution_count": 110,
   "metadata": {},
   "outputs": [],
   "source": [
    "after_underscore = checked_domains_file.find('_')+1\n",
    "before_ext = checked_domains_file.find('.csv')\n",
    "checked_file_date = checked_domains_file[after_underscore:before_ext]\n",
    "checked_domains = pd.read_csv(checked_domains_file)\n",
    "cols = ['Date','Company Name(s)','Email Domain','Industry Segment','Respective Sub-Industry Segment']\n",
    "checked_domains = checked_domains[cols]\n",
    "# Splitting company name(s) attribute and email domains\n",
    "for i in range(checked_domains.shape[0]):\n",
    "    co_names = str(checked_domains.iloc[i][1]).lower().split(';')\n",
    "    e_domains = str(checked_domains.iloc[i][2]).lower().split(',')\n",
    "    checked_domains.iloc[i][1] = co_names\n",
    "    checked_domains.iloc[i][2] = e_domains\n",
    "checked_domains['Date'] = pd.to_datetime(checked_domains['Date'],errors='coerce').dt.date\n",
    "checked_domains.sort_values('Date',ascending=False,inplace=True)\n",
    "checked_domains.reset_index(drop=True,inplace=True)\n",
    "checked_domains.dropna(subset=['Date'],inplace=True)\n",
    "checked_array = checked_domains.to_numpy()\n",
    "for i in range(checked_array.shape[0]):\n",
    "    checked_array[i][0] = checked_array[i][0].strftime('%Y%m%d')\n",
    "    \n",
    "    domain_list = checked_array[i][2]\n",
    "    for d in range(len(domain_list)):\n",
    "        domain_list[d] = domain_list[d].strip()\n",
    "    checked_array[i][2] = domain_list\n",
    "    \n",
    "    company_list = checked_array[i][1]\n",
    "    for c in range(len(company_list)):\n",
    "        #company_list[c] = company_list[c].translate(None, string.punctuation)\n",
    "        company_list[c] = re.sub(r\"[(,.;@#?!&$)]+\\ *\",\" \", company_list[c])\n",
    "        company_list[c] = ' '.join(company_list[c].split())\n",
    "        #company_list[c] = cleanco(company_list[c].strip()).clean_name()\n",
    "    checked_array[i][1] = company_list"
   ]
  },
  {
   "cell_type": "code",
   "execution_count": 111,
   "metadata": {},
   "outputs": [
    {
     "data": {
      "text/plain": [
       "array(['20191205', list(['pitney bowes']), list(['@pb.com']),\n",
       "       'Technology', nan], dtype=object)"
      ]
     },
     "execution_count": 111,
     "metadata": {},
     "output_type": "execute_result"
    }
   ],
   "source": [
    "checked_array[1]"
   ]
  },
  {
   "cell_type": "code",
   "execution_count": 112,
   "metadata": {},
   "outputs": [],
   "source": [
    "cel = []"
   ]
  },
  {
   "cell_type": "code",
   "execution_count": 113,
   "metadata": {},
   "outputs": [],
   "source": [
    "for i in range(checked_array.shape[0]):\n",
    "    for j in range(len(checked_array[i][2])):\n",
    "        cel.append(checked_array[i][2][j])"
   ]
  },
  {
   "cell_type": "code",
   "execution_count": 115,
   "metadata": {},
   "outputs": [],
   "source": [
    "cel = set(cel)"
   ]
  },
  {
   "cell_type": "code",
   "execution_count": 119,
   "metadata": {},
   "outputs": [],
   "source": [
    "for i in range(emails_array.shape[0]):\n",
    "    if emails_array[i][0] in cel:\n",
    "        emails_array[i][2] = 'Checked'\n",
    "    else:\n",
    "        emails_array[i][2] = ''"
   ]
  },
  {
   "cell_type": "code",
   "execution_count": 120,
   "metadata": {},
   "outputs": [
    {
     "data": {
      "text/plain": [
       "array(['@ryder.com', 1022, 'Checked'], dtype=object)"
      ]
     },
     "execution_count": 120,
     "metadata": {},
     "output_type": "execute_result"
    }
   ],
   "source": [
    "emails_array[4]"
   ]
  },
  {
   "cell_type": "code",
   "execution_count": 121,
   "metadata": {},
   "outputs": [],
   "source": [
    "filled_array = pd.DataFrame(data=emails_array)"
   ]
  },
  {
   "cell_type": "code",
   "execution_count": 123,
   "metadata": {},
   "outputs": [],
   "source": [
    "filled_array.to_csv('DomainStatusUpdated_{}.csv'.format(checked_file_date))"
   ]
  }
 ],
 "metadata": {
  "kernelspec": {
   "display_name": "Python 3",
   "language": "python",
   "name": "python3"
  },
  "language_info": {
   "codemirror_mode": {
    "name": "ipython",
    "version": 3
   },
   "file_extension": ".py",
   "mimetype": "text/x-python",
   "name": "python",
   "nbconvert_exporter": "python",
   "pygments_lexer": "ipython3",
   "version": "3.8.0"
  }
 },
 "nbformat": 4,
 "nbformat_minor": 2
}
