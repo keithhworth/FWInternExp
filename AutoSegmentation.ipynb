{
 "cells": [
  {
   "cell_type": "code",
   "execution_count": 1,
   "metadata": {},
   "outputs": [],
   "source": [
    "import pandas as pd\n",
    "import datetime as dt\n",
    "import numpy as np\n",
    "from tqdm import tqdm\n",
    "from cleanco import cleanco\n",
    "import re\n",
    "import os.path\n",
    "import json"
   ]
  },
  {
   "cell_type": "code",
   "execution_count": 2,
   "metadata": {},
   "outputs": [],
   "source": [
    "all_contacts_file = 'all-contacts_20191212.csv'\n",
    "checked_domains_file = 'CheckedCompanies_20191212.csv'"
   ]
  },
  {
   "cell_type": "code",
   "execution_count": 3,
   "metadata": {},
   "outputs": [],
   "source": [
    "after_underscore = checked_domains_file.find('_')+1\n",
    "before_ext = checked_domains_file.find('.csv')\n",
    "checked_file_date = checked_domains_file[after_underscore:before_ext]"
   ]
  },
  {
   "cell_type": "code",
   "execution_count": 4,
   "metadata": {},
   "outputs": [
    {
     "name": "stderr",
     "output_type": "stream",
     "text": [
      "100%|██████████| 258499/258499 [00:05<00:00, 50065.38it/s]\n"
     ]
    }
   ],
   "source": [
    "all_contacts = pd.read_csv(all_contacts_file)\n",
    "cols = ['Contact ID','Email','Company Name','Industry','Carrier Industry Segment','Intermediary Industry Segment','Shipper Industry Segment','Create Date']\n",
    "all_contacts = all_contacts[cols]\n",
    "all_contacts['Create Date'] = pd.to_datetime(all_contacts['Create Date'],errors='coerce').dt.date\n",
    "all_contacts.sort_values('Create Date',ascending=False,inplace=True)\n",
    "all_contacts.reset_index(drop=True,inplace=True)\n",
    "contacts_array = all_contacts.to_numpy()\n",
    "for i in tqdm(range(contacts_array.shape[0])):\n",
    "    str_date = contacts_array[i][7].strftime('%Y%m%d')\n",
    "    contacts_array[i][7] = str_date\n",
    "    email = str(contacts_array[i][1]).lower().strip()\n",
    "    where_at = email.find('@')\n",
    "    domain = email[where_at:]\n",
    "    contacts_array[i][1] = domain\n",
    "    \n",
    "    co_name = str(contacts_array[i][2]).lower().strip()\n",
    "    co_name = re.sub(r\"[(,.;@#?!&$)]+\\ *\",\" \",co_name)\n",
    "    co_name = ' '.join(co_name.split())\n",
    "    contacts_array[i][2] = co_name"
   ]
  },
  {
   "cell_type": "code",
   "execution_count": 5,
   "metadata": {},
   "outputs": [
    {
     "data": {
      "text/plain": [
       "150474"
      ]
     },
     "execution_count": 5,
     "metadata": {},
     "output_type": "execute_result"
    }
   ],
   "source": [
    "before = all_contacts['Industry'].isnull().sum()\n",
    "before"
   ]
  },
  {
   "cell_type": "code",
   "execution_count": 6,
   "metadata": {},
   "outputs": [],
   "source": [
    "def jaccard_similarity(list1, list2):\n",
    "    intersection = len(list(set(list1).intersection(list2)))\n",
    "    union = (len(list1) + len(list2)) - intersection\n",
    "    return float(intersection) / union\n",
    "def string_to_list(string):\n",
    "    string = re.sub(r\"[(,.;@#?!&$)]+\\ *\", \" \", string).lower()\n",
    "    list = string.split()\n",
    "    return list"
   ]
  },
  {
   "cell_type": "code",
   "execution_count": 7,
   "metadata": {},
   "outputs": [],
   "source": [
    "d_segment_file,cn_segment_file = 'DictDomainSegments.json','DictCoNameSegments.json'\n",
    "with open(d_segment_file,'r') as df, open(cn_segment_file,'r') as cnf:\n",
    "    ds = json.load(df)\n",
    "    cns = json.load(cnf)"
   ]
  },
  {
   "cell_type": "code",
   "execution_count": 8,
   "metadata": {},
   "outputs": [
    {
     "data": {
      "text/plain": [
       "array([73440001, '@redwoodlogistics.com', 'redwood logistics',\n",
       "       'Intermediary', nan, '3PL / Brokerage', nan, '20191210'],\n",
       "      dtype=object)"
      ]
     },
     "execution_count": 8,
     "metadata": {},
     "output_type": "execute_result"
    }
   ],
   "source": [
    "contacts_array[300]"
   ]
  },
  {
   "cell_type": "code",
   "execution_count": 9,
   "metadata": {},
   "outputs": [
    {
     "data": {
      "text/plain": [
       "array([73472751, '@go3star.com', '3star logistics inc', 'Carrier',\n",
       "       'Trucking', nan, nan, '20191212'], dtype=object)"
      ]
     },
     "execution_count": 9,
     "metadata": {},
     "output_type": "execute_result"
    }
   ],
   "source": [
    "contacts_array[10]"
   ]
  },
  {
   "cell_type": "code",
   "execution_count": 10,
   "metadata": {},
   "outputs": [
    {
     "data": {
      "text/plain": [
       "array([[73473101, '@odysseylogistics.com', 'nan', ..., nan, nan,\n",
       "        '20191212'],\n",
       "       [73473051, '@gmail.com', 'pranatrucking', ..., nan, nan,\n",
       "        '20191212'],\n",
       "       [73471951, '@yahoo.com', 'nan', ..., nan, nan, '20191212'],\n",
       "       ...,\n",
       "       [11621, '@jefferies.com', 'jefferies', ..., nan, nan, '20181108'],\n",
       "       [27742, '@gmail.com', 'kool pak llc', ..., nan, nan, '20181108'],\n",
       "       [19410, '@schneider.com', 'schneider logistics', ...,\n",
       "        '3PL / Brokerage', nan, '20181108']], dtype=object)"
      ]
     },
     "execution_count": 10,
     "metadata": {},
     "output_type": "execute_result"
    }
   ],
   "source": [
    "contacts_array"
   ]
  },
  {
   "cell_type": "code",
   "execution_count": 170,
   "metadata": {},
   "outputs": [
    {
     "data": {
      "text/plain": [
       "['j b hunt transport services inc',\n",
       " 'Intermediary',\n",
       " '3PL / Brokerage',\n",
       " '20191125',\n",
       " '20191212']"
      ]
     },
     "execution_count": 170,
     "metadata": {},
     "output_type": "execute_result"
    }
   ],
   "source": [
    "ds.get('@jbhunt.com')"
   ]
  },
  {
   "cell_type": "code",
   "execution_count": 171,
   "metadata": {},
   "outputs": [
    {
     "data": {
      "text/plain": [
       "['Intermediary', '3PL / Brokerage', '20191212']"
      ]
     },
     "execution_count": 171,
     "metadata": {},
     "output_type": "execute_result"
    }
   ],
   "source": [
    "cns.get('j b hunt transport services inc')"
   ]
  },
  {
   "cell_type": "code",
   "execution_count": 172,
   "metadata": {},
   "outputs": [
    {
     "data": {
      "text/plain": [
       "['Intermediary', '3PL / Brokerage', '20191212']"
      ]
     },
     "execution_count": 172,
     "metadata": {},
     "output_type": "execute_result"
    }
   ],
   "source": [
    "cns.get('jb hunt')"
   ]
  },
  {
   "cell_type": "code",
   "execution_count": 173,
   "metadata": {},
   "outputs": [
    {
     "name": "stderr",
     "output_type": "stream",
     "text": [
      "100%|██████████| 258499/258499 [00:01<00:00, 180349.96it/s]\n"
     ]
    }
   ],
   "source": [
    "# contacts_array = \n",
    "for i in tqdm(range(contacts_array.shape[0])):\n",
    "    if pd.isnull(contacts_array[i][3]) and not pd.isnull(contacts_array[i][1]):\n",
    "        domain = contacts_array[i][1]\n",
    "        if domain in ds:\n",
    "            info = ds.get(domain)  # info = [Company name, Industry, Sub-industry, checked_contact_date, checked_file_date]\n",
    "            if info[1] == 'Carrier':\n",
    "                contacts_array[i][2],contacts_array[i][3],contacts_array[i][4] = info[0],info[1],info[2]\n",
    "            elif info[1] == 'Intermediary':\n",
    "                contacts_array[i][2],contacts_array[i][3],contacts_array[i][5] = info[0],info[1],info[2]\n",
    "            elif info[1] == 'Shipper/Retailer/Manufacturer/BCO':\n",
    "                # more if-statements to change segmentation info to include commas \n",
    "                # this is because commas \n",
    "                if info[2] == 'Food Beverages & Tobacco':\n",
    "                    contacts_array[i][2],contacts_array[i][3],contacts_array[i][6] = info[0],info[1],'Food, Beverages & Tobacco'\n",
    "                elif info[2] == 'Hotels Restaurants & Leisure':\n",
    "                    contacts_array[i][2],contacts_array[i][3],contacts_array[i][6] = info[0],info[1],'Hotels, Restaurants & Leisure'\n",
    "                else:\n",
    "                    contacts_array[i][2],contacts_array[i][3],contacts_array[i][6] = info[0],info[1],info[2]\n",
    "            else:\n",
    "                contacts_array[i][2],contacts_array[i][3] = info[0],info[1]\n",
    "    if not pd.isnull(contacts_array[i][2]) and pd.isnull(contacts_array[i][3]) and not pd.isnull(contacts_array[i][1]):\n",
    "        domain = contacts_array[i][1]\n",
    "        if domain in ds:\n",
    "            if ds.get(domain)[0] in contacts_array[i][2]:\n",
    "                info = ds.get(domain)  # info = [Company name, Industry, Sub-industry, checked_contact_date, checked_file_date]\n",
    "                if info[1] == 'Carrier':\n",
    "                    contacts_array[i][3],contacts_array[i][4] = info[1],info[2]\n",
    "                elif info[1] == 'Intermediary':\n",
    "                    contacts_array[i][3],contacts_array[i][5] = info[1],info[2]\n",
    "                elif info[1] == 'Shipper/Retailer/Manufacturer/BCO':\n",
    "                    contacts_array[i][3],contacts_array[i][6] = info[1],info[2]\n",
    "                else:\n",
    "                    contacts_array[i][3] = info[0],info[1]"
   ]
  },
  {
   "cell_type": "code",
   "execution_count": 174,
   "metadata": {},
   "outputs": [
    {
     "name": "stdout",
     "output_type": "stream",
     "text": [
      "Updated contacts after using DictDomainSegments: 3153\n"
     ]
    }
   ],
   "source": [
    "segmented_contacts = pd.DataFrame(data=contacts_array)\n",
    "segmented_contacts.columns = cols\n",
    "after = segmented_contacts['Industry'].isnull().sum()\n",
    "ds_check = before-after\n",
    "print('Updated contacts after using DictDomainSegments: {}'.format(ds_check))"
   ]
  },
  {
   "cell_type": "code",
   "execution_count": 175,
   "metadata": {},
   "outputs": [
    {
     "name": "stderr",
     "output_type": "stream",
     "text": [
      "100%|██████████| 258499/258499 [00:00<00:00, 395214.44it/s]\n"
     ]
    }
   ],
   "source": [
    "for i in tqdm(range(contacts_array.shape[0])):\n",
    "    if not pd.isnull(contacts_array[i][2]):# not pd.isnull(contacts_array[i][3]):\n",
    "        coname = contacts_array[i][2]\n",
    "        if coname in cns:\n",
    "            info = cns.get(coname)  # info = [Industry, Sub-industry, checked_file_date]\n",
    "            if info[0] == 'Carrier':\n",
    "                contacts_array[i][3],contacts_array[i][4] = info[0],info[1]\n",
    "            elif info[0] == 'Intermediary':\n",
    "                contacts_array[i][3],contacts_array[i][5] = info[0],info[1]\n",
    "            elif info[0] == 'Shipper/Retailer/Manufacturer/BCO':\n",
    "                if info[1] == 'Food Beverages & Tobacco':\n",
    "                    contacts_array[i][3],contacts_array[i][6] = info[0],'Food, Beverages & Tobacco'\n",
    "                elif info[1] == 'Hotels Restaurants & Leisure':\n",
    "                    contacts_array[i][3],contacts_array[i][6] = info[0],'Hotels, Restaurants & Leisure'\n",
    "                else:\n",
    "                    contacts_array[i][3],contacts_array[i][6] = info[0],info[1]\n",
    "            else:\n",
    "                contacts_array[3] = info[0]"
   ]
  },
  {
   "cell_type": "code",
   "execution_count": 176,
   "metadata": {},
   "outputs": [
    {
     "name": "stdout",
     "output_type": "stream",
     "text": [
      "Updated contacts after using DictCoNameSegments: 148\n"
     ]
    }
   ],
   "source": [
    "segmented_contacts = pd.DataFrame(data=contacts_array)\n",
    "segmented_contacts.columns = cols\n",
    "after = segmented_contacts['Industry'].isnull().sum()\n",
    "cns_check = before-after\n",
    "print('Updated contacts after using DictCoNameSegments: {}'.format(cns_check-ds_check))"
   ]
  },
  {
   "cell_type": "code",
   "execution_count": 177,
   "metadata": {
    "scrolled": false
   },
   "outputs": [
    {
     "name": "stdout",
     "output_type": "stream",
     "text": [
      "Total change: 3301\n"
     ]
    }
   ],
   "source": [
    "print('Total change: {}'.format(before-after))"
   ]
  }
 ],
 "metadata": {
  "kernelspec": {
   "display_name": "Python 3",
   "language": "python",
   "name": "python3"
  },
  "language_info": {
   "codemirror_mode": {
    "name": "ipython",
    "version": 3
   },
   "file_extension": ".py",
   "mimetype": "text/x-python",
   "name": "python",
   "nbconvert_exporter": "python",
   "pygments_lexer": "ipython3",
   "version": "3.8.0"
  }
 },
 "nbformat": 4,
 "nbformat_minor": 2
}
